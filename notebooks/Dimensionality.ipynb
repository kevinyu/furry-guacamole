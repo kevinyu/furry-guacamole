{
 "cells": [
  {
   "cell_type": "markdown",
   "metadata": {},
   "source": [
    "## Analyze dimensionality by computing mutual information x dimensions"
   ]
  },
  {
   "cell_type": "code",
   "execution_count": 23,
   "metadata": {},
   "outputs": [
    {
     "name": "stdout",
     "output_type": "stream",
     "text": [
      "The autoreload extension is already loaded. To reload it, use:\n",
      "  %reload_ext autoreload\n"
     ]
    }
   ],
   "source": [
    "import pandas as pd\n",
    "import matplotlib.pyplot as plt\n",
    "import numpy as np\n",
    "from sklearn.decomposition import PCA\n",
    "\n",
    "import confusion\n",
    "from confusion import generate_confusion_matrix\n",
    "from data_loader import SessionDataLoader\n",
    "from spikes.filters import gaussian_filter, exp_filter\n",
    "from spikes.binning import bin_spikes\n",
    "from template_decoding import (\n",
    "    compute_distance_to_templates,\n",
    "    compute_templates,\n",
    "    decode,\n",
    "    unbias_templates\n",
    ")\n",
    "\n",
    "%load_ext autoreload\n",
    "%autoreload 2"
   ]
  },
  {
   "cell_type": "code",
   "execution_count": 3,
   "metadata": {
    "collapsed": true
   },
   "outputs": [],
   "source": [
    "data_loader = SessionDataLoader(\"YelBlu6903F\", 1)\n",
    "table = data_loader.load_table()"
   ]
  },
  {
   "cell_type": "code",
   "execution_count": 4,
   "metadata": {},
   "outputs": [],
   "source": [
    "t_arr, spikes = bin_spikes(table[\"spike_times\"], min_time=0.0, max_time=0.6)\n",
    "spikes_filtered = exp_filter(spikes, 5.0)\n",
    "\n",
    "table[\"binned_spikes\"] = spikes.tolist()\n",
    "table[\"psth\"] = spikes_filtered.tolist()"
   ]
  },
  {
   "cell_type": "code",
   "execution_count": 8,
   "metadata": {
    "collapsed": true
   },
   "outputs": [],
   "source": [
    "unit_table = table[table[\"unit\"] == (2, 2)]"
   ]
  },
  {
   "cell_type": "code",
   "execution_count": 51,
   "metadata": {
    "collapsed": true
   },
   "outputs": [],
   "source": [
    "DIMS = [2, 3, 5, 8, 13, 21, 34]"
   ]
  },
  {
   "cell_type": "code",
   "execution_count": 53,
   "metadata": {},
   "outputs": [],
   "source": [
    "def decode_after_pca(unit_table, template_column=\"stim\", ndim=2):\n",
    "    pca = PCA(n_components=ndim)\n",
    "    # save the reduced representation of responses to \"resp\" column\n",
    "    unit_table[\"resp\"] = pca.fit_transform(unit_table[\"psth\"].tolist()).tolist()\n",
    "\n",
    "    templates = compute_templates(unit_table, template_column, \"resp\")\n",
    "\n",
    "    if \"resp_template\" in unit_table: unit_table.drop(\"resp_template\", 1, inplace=True)\n",
    "    unit_table = unbias_templates(unit_table, templates, template_column, \"resp\")\n",
    "\n",
    "    compute_distance_to_templates.clear_cache()\n",
    "    distances = compute_distance_to_templates(unit_table, template_column, \"resp\")\n",
    "\n",
    "    unit_table = unit_table.sort_values([\"call_type\", \"stim\"])\n",
    "\n",
    "    actual = unit_table[template_column]\n",
    "    predicted = decode(unit_table, distances, template_column)\n",
    "\n",
    "    return generate_confusion_matrix(actual, predicted, joint=False)"
   ]
  },
  {
   "cell_type": "code",
   "execution_count": 55,
   "metadata": {},
   "outputs": [
    {
     "name": "stdout",
     "output_type": "stream",
     "text": [
      "2.75535585426\n",
      "2.84572676026\n",
      "3.0420607952\n",
      "3.21700587984\n",
      "3.34924588259\n",
      "3.53571270755\n"
     ]
    }
   ],
   "source": [
    "MUTUAL_INFO = []\n",
    "for dim in DIMS:\n",
    "    conf = decode_after_pca(unit_table, template_column=\"stim\", ndim=dim)\n",
    "    mutual_information = confusion.mutual_information(conf)\n",
    "    print \"{:.2f} bits at dim {}\".format(mutual_information, dim)\n",
    "    MUTUAL_INFO.append(mutual_information)"
   ]
  },
  {
   "cell_type": "code",
   "execution_count": 56,
   "metadata": {},
   "outputs": [
    {
     "data": {
      "image/png": "[encoded data removed]",
      "text/plain": [
       "<matplotlib.figure.Figure at 0x11a9c4310>"
      ]
     },
     "metadata": {},
     "output_type": "display_data"
    },
    {
     "name": "stdout",
     "output_type": "stream",
     "text": [
      "Mutual Information: 3.54 bits\n",
      "Accuracy: 12.72%\n"
     ]
    }
   ],
   "source": [
    "plt.figure(figsize=(11, 10))\n",
    "plt.imshow(conf, vmin=0.0, vmax=1.0, cmap=\"hot\")\n",
    "plt.colorbar()\n",
    "plt.show()\n",
    "print \"Mutual Information: {:.2f} bits\".format(confusion.mutual_information(conf))\n",
    "print \"Accuracy: {:.2f}%\".format(confusion.accuracy(conf) * 100)"
   ]
  },
  {
   "cell_type": "code",
   "execution_count": null,
   "metadata": {
    "collapsed": true
   },
   "outputs": [],
   "source": []
  }
 ],
 "metadata": {
  "kernelspec": {
   "display_name": "Python 2",
   "language": "python",
   "name": "python2"
  },
  "language_info": {
   "codemirror_mode": {
    "name": "ipython",
    "version": 2
   },
   "file_extension": ".py",
   "mimetype": "text/x-python",
   "name": "python",
   "nbconvert_exporter": "python",
   "pygments_lexer": "ipython2",
   "version": "2.7.12"
  }
 },
 "nbformat": 4,
 "nbformat_minor": 2
}
