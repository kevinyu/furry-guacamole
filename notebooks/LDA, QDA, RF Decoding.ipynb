{
 "cells": [
  {
   "cell_type": "markdown",
   "metadata": {},
   "source": [
    "Using LDA, QDA, and random forest classifiers to decode stim, and call_type\n",
    "\n",
    "Apply PCA before these procedures"
   ]
  },
  {
   "cell_type": "code",
   "execution_count": 9,
   "metadata": {},
   "outputs": [
    {
     "name": "stdout",
     "output_type": "stream",
     "text": [
      "The autoreload extension is already loaded. To reload it, use:\n",
      "  %reload_ext autoreload\n"
     ]
    }
   ],
   "source": [
    "import matplotlib.pyplot as plt\n",
    "import numpy as np\n",
    "import pandas as pd\n",
    "from sklearn.decomposition import PCA\n",
    "\n",
    "from data_loader import SessionDataLoader\n",
    "from discriminant_analysis import lda, qda, rf, cross_validate\n",
    "from spikes.filters import gaussian_filter, exp_filter\n",
    "from spikes.binning import bin_spikes\n",
    "\n",
    "%load_ext autoreload\n",
    "%autoreload 2%load_ext autoreload\n",
    "%autoreload 2"
   ]
  },
  {
   "cell_type": "code",
   "execution_count": 2,
   "metadata": {
    "collapsed": true
   },
   "outputs": [],
   "source": [
    "data_loader = SessionDataLoader(\"YelBlu6903F\", 1)\n",
    "table = data_loader.load_table()"
   ]
  },
  {
   "cell_type": "code",
   "execution_count": 3,
   "metadata": {
    "collapsed": true
   },
   "outputs": [],
   "source": [
    "table = table[table[\"call_type\"] != \"None\"]\n",
    "table = table.copy()"
   ]
  },
  {
   "cell_type": "code",
   "execution_count": 4,
   "metadata": {
    "collapsed": true
   },
   "outputs": [],
   "source": [
    "t_arr, spikes = bin_spikes(table[\"spike_times\"], min_time=0.0, max_time=0.6)\n",
    "spikes_filtered = exp_filter(spikes, 5.0)\n",
    "\n",
    "table[\"binned_spikes\"] = spikes.tolist()\n",
    "table[\"psth\"] = spikes_filtered.tolist()"
   ]
  },
  {
   "cell_type": "code",
   "execution_count": 5,
   "metadata": {
    "collapsed": true
   },
   "outputs": [],
   "source": [
    "X = np.array(table[\"psth\"].tolist())\n",
    "Y = np.array(table[\"stim\"])"
   ]
  },
  {
   "cell_type": "code",
   "execution_count": 27,
   "metadata": {
    "collapsed": true
   },
   "outputs": [],
   "source": [
    "DIMS = [2, 4, 6, 8, 12, 16, 24, 32, 48]\n",
    "lda_scores = np.zeros(len(DIMS))\n",
    "qda_scores = np.zeros(len(DIMS))\n",
    "rf_scores = np.zeros(len(DIMS))\n",
    "\n",
    "lda_std = np.zeros(len(DIMS))\n",
    "qda_std = np.zeros(len(DIMS))\n",
    "rf_std = np.zeros(len(DIMS))"
   ]
  },
  {
   "cell_type": "code",
   "execution_count": 30,
   "metadata": {},
   "outputs": [],
   "source": [
    "for i, dim in enumerate(DIMS):\n",
    "    pca = PCA(n_components=dim)\n",
    "    X_reduced = pca.fit_transform(X)\n",
    "    \n",
    "    scores = cross_validate(X_reduced, Y, lda, folds=10)\n",
    "    lda_scores[i] = np.mean(scores) * 100.0\n",
    "    lda_std[i] = np.std(scores) * 100.0\n",
    "    \n",
    "    scores = cross_validate(X_reduced, Y, qda, folds=10)\n",
    "    qda_scores[i] = np.mean(scores) * 100.0\n",
    "    qda_std[i] = np.std(scores) * 100.0\n",
    "    \n",
    "    scores = cross_validate(X_reduced, Y, rf, folds=10)\n",
    "    rf_scores[i] = np.mean(scores) * 100.0\n",
    "    rf_std[i] = np.std(scores) * 100.0"
   ]
  },
  {
   "cell_type": "code",
   "execution_count": 34,
   "metadata": {},
   "outputs": [
    {
     "data": {
      "image/png": "[encoded data removed]",
      "text/plain": [
       "<matplotlib.figure.Figure at 0x10f98d210>"
      ]
     },
     "metadata": {},
     "output_type": "display_data"
    }
   ],
   "source": [
    "plt.figure(figsize=(6, 6))\n",
    "plt.subplot(3, 1, 1)\n",
    "plt.errorbar(DIMS, lda_scores, yerr=lda_std, label=\"LDA\")\n",
    "plt.xlabel(\"PCs\")\n",
    "plt.ylabel(\"Accuracy\")\n",
    "plt.ylim(0, 40)\n",
    "plt.text(40, 35, \"LDA\")\n",
    "\n",
    "plt.subplot(3, 1, 2)\n",
    "plt.errorbar(DIMS, qda_scores, yerr=qda_std, label=\"QDA\")\n",
    "plt.xlabel(\"PCs\")\n",
    "plt.ylabel(\"Accuracy\")\n",
    "plt.ylim(0, 40)\n",
    "plt.text(40, 35, \"QDA\")\n",
    "\n",
    "plt.subplot(3, 1, 3)\n",
    "plt.errorbar(DIMS, rf_scores, yerr=rf_std, label=\"RF\")\n",
    "plt.xlabel(\"PCs\")\n",
    "plt.ylabel(\"Accuracy\")\n",
    "plt.ylim(0, 40)\n",
    "plt.text(40, 35, \"RF\")\n",
    "\n",
    "plt.show()"
   ]
  },
  {
   "cell_type": "markdown",
   "metadata": {},
   "source": [
    "The number of stims will be annoying to plot since I need a different color for each. So for the visualization example I'll decode by call_type. Otherwise, you could also loop through colors"
   ]
  },
  {
   "cell_type": "code",
   "execution_count": 58,
   "metadata": {
    "collapsed": true
   },
   "outputs": [],
   "source": [
    "# colors = {\n",
    "#     4: (0/255.0, 230/255.0, 255/255.0),\n",
    "#     5: (0/255.0, 95/255.0, 255/255.0),\n",
    "#     8: (255/255.0, 200/255.0, 65/255.0),\n",
    "#     0: (255/255.0, 150/255.0, 40/255.0),\n",
    "#     3: (255/255.0, 105/255.0, 15/255.0),\n",
    "#     1: (255/255.0, 0/255.0, 0/255.0),\n",
    "#     6: (255/255.0, 100/255.0, 255/255.0),\n",
    "#     7: (140/255.0, 100/255.0, 185/255.0),\n",
    "#     2: (100/255.0, 50/255.0, 200/255.0),\n",
    "#     9: (255/255.0, 255/255.0, 255/255.0)\n",
    "# }"
   ]
  },
  {
   "cell_type": "code",
   "execution_count": null,
   "metadata": {
    "collapsed": true
   },
   "outputs": [],
   "source": []
  },
  {
   "cell_type": "code",
   "execution_count": null,
   "metadata": {
    "collapsed": true
   },
   "outputs": [],
   "source": []
  }
 ],
 "metadata": {
  "kernelspec": {
   "display_name": "Python 2",
   "language": "python",
   "name": "python2"
  },
  "language_info": {
   "codemirror_mode": {
    "name": "ipython",
    "version": 2
   },
   "file_extension": ".py",
   "mimetype": "text/x-python",
   "name": "python",
   "nbconvert_exporter": "python",
   "pygments_lexer": "ipython2",
   "version": "2.7.12"
  }
 },
 "nbformat": 4,
 "nbformat_minor": 2
}
