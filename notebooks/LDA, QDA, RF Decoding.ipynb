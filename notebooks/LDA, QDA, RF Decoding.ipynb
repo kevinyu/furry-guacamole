{
 "cells": [
  {
   "cell_type": "markdown",
   "metadata": {},
   "source": [
    "Using LDA, QDA, and random forest classifiers to decode stim, and call_type\n",
    "\n",
    "Apply PCA before these procedures"
   ]
  },
  {
   "cell_type": "code",
   "execution_count": 23,
   "metadata": {},
   "outputs": [
    {
     "name": "stdout",
     "output_type": "stream",
     "text": [
      "The autoreload extension is already loaded. To reload it, use:\n",
      "  %reload_ext autoreload\n"
     ]
    }
   ],
   "source": [
    "import matplotlib.pyplot as plt\n",
    "import numpy as np\n",
    "import pandas as pd\n",
    "\n",
    "from data_loader import SessionDataLoader\n",
    "from lda import discriminate\n",
    "from spikes.filters import gaussian_filter, exp_filter\n",
    "from spikes.binning import bin_spikes\n",
    "\n",
    "%load_ext autoreload\n",
    "%autoreload 2%load_ext autoreload\n",
    "%autoreload 2"
   ]
  },
  {
   "cell_type": "code",
   "execution_count": 6,
   "metadata": {},
   "outputs": [],
   "source": [
    "data_loader = SessionDataLoader(\"YelBlu6903F\", 1)\n",
    "table = data_loader.load_table()"
   ]
  },
  {
   "cell_type": "code",
   "execution_count": 7,
   "metadata": {
    "collapsed": true
   },
   "outputs": [],
   "source": [
    "table = table[table[\"call_type\"] != \"None\"]\n",
    "table = table.copy()"
   ]
  },
  {
   "cell_type": "code",
   "execution_count": 8,
   "metadata": {
    "collapsed": true
   },
   "outputs": [],
   "source": [
    "t_arr, spikes = bin_spikes(table[\"spike_times\"], min_time=0.0, max_time=0.6)\n",
    "spikes_filtered = exp_filter(spikes, 5.0)\n",
    "\n",
    "table[\"binned_spikes\"] = spikes.tolist()\n",
    "table[\"psth\"] = spikes_filtered.tolist()"
   ]
  },
  {
   "cell_type": "code",
   "execution_count": 11,
   "metadata": {},
   "outputs": [],
   "source": [
    "X = np.array(table[\"psth\"].tolist())\n",
    "Y = np.array(table[\"stim\"])"
   ]
  },
  {
   "cell_type": "code",
   "execution_count": 28,
   "metadata": {
    "collapsed": true
   },
   "outputs": [],
   "source": [
    "DIMS = [2, 4, 6, 8, 12, 16, 24, 32, 48]\n",
    "lda_scores = np.zeros_like(DIMS)\n",
    "qda_scores = np.zeros_like(DIMS)\n",
    "rf_scores = np.zeros_like(DIMS)\n",
    "\n",
    "lda_std = np.zeros_like(DIMS)\n",
    "qda_std = np.zeros_like(DIMS)\n",
    "rf_std = np.zeros_like(DIMS)"
   ]
  },
  {
   "cell_type": "code",
   "execution_count": 30,
   "metadata": {},
   "outputs": [],
   "source": [
    "for i, dim in enumerate(DIMS):\n",
    "    result = discriminate(X, Y, folds=10, ndim=dim)\n",
    "    lda_scores[i] = result[\"lda_acc\"] * 100.0\n",
    "    qda_scores[i] = result[\"qda_acc\"] * 100.0\n",
    "    rf_scores[i] = result[\"rf_acc\"] * 100.0\n",
    "    \n",
    "    lda_std[i] = result[\"lda_acc_std\"] * 100.0\n",
    "    qda_std[i] = result[\"qda_acc_std\"] * 100.0\n",
    "    rf_std[i] = result[\"rf_acc_std\"] * 100.0"
   ]
  },
  {
   "cell_type": "code",
   "execution_count": 36,
   "metadata": {},
   "outputs": [
    {
     "data": {
      "image/png": "[encoded data removed]",
      "text/plain": [
       "<matplotlib.figure.Figure at 0x12207f710>"
      ]
     },
     "metadata": {},
     "output_type": "display_data"
    }
   ],
   "source": [
    "plt.figure(figsize=(6, 6))\n",
    "plt.subplot(3, 1, 1)\n",
    "plt.errorbar(DIMS, lda_scores, yerr=lda_std, label=\"LDA\")\n",
    "plt.xlabel(\"PCs\")\n",
    "plt.ylabel(\"Accuracy\")\n",
    "plt.ylim(0, 40)\n",
    "plt.text(40, 35, \"LDA\")\n",
    "\n",
    "plt.subplot(3, 1, 2)\n",
    "plt.errorbar(DIMS, qda_scores, yerr=qda_std, label=\"QDA\")\n",
    "plt.xlabel(\"PCs\")\n",
    "plt.ylabel(\"Accuracy\")\n",
    "plt.ylim(0, 40)\n",
    "plt.text(40, 35, \"QDA\")\n",
    "\n",
    "plt.subplot(3, 1, 3)\n",
    "plt.errorbar(DIMS, rf_scores, yerr=rf_std, label=\"RF\")\n",
    "plt.xlabel(\"PCs\")\n",
    "plt.ylabel(\"Accuracy\")\n",
    "plt.ylim(0, 40)\n",
    "plt.text(40, 35, \"RF\")\n",
    "\n",
    "plt.show()"
   ]
  },
  {
   "cell_type": "code",
   "execution_count": null,
   "metadata": {
    "collapsed": true
   },
   "outputs": [],
   "source": []
  }
 ],
 "metadata": {
  "kernelspec": {
   "display_name": "Python 2",
   "language": "python",
   "name": "python2"
  },
  "language_info": {
   "codemirror_mode": {
    "name": "ipython",
    "version": 2
   },
   "file_extension": ".py",
   "mimetype": "text/x-python",
   "name": "python",
   "nbconvert_exporter": "python",
   "pygments_lexer": "ipython2",
   "version": "2.7.12"
  }
 },
 "nbformat": 4,
 "nbformat_minor": 2
}
