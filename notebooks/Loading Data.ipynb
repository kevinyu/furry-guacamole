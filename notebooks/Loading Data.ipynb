{
 "cells": [
  {
   "cell_type": "markdown",
   "metadata": {},
   "source": [
    "### Loading Data\n",
    "\n",
    "Quick and easy way to load data for a single bird, one recording session (one site) into a Pandas DataFrame"
   ]
  },
  {
   "cell_type": "code",
   "execution_count": 19,
   "metadata": {},
   "outputs": [
    {
     "name": "stdout",
     "output_type": "stream",
     "text": [
      "The autoreload extension is already loaded. To reload it, use:\n",
      "  %reload_ext autoreload\n"
     ]
    }
   ],
   "source": [
    "import pandas as pd\n",
    "import matplotlib.pyplot as plt\n",
    "from data_loader import SessionDataLoader\n",
    "\n",
    "from spikeplot import raster\n",
    "\n",
    "%load_ext autoreload\n",
    "%autoreload 2"
   ]
  },
  {
   "cell_type": "code",
   "execution_count": 2,
   "metadata": {
    "collapsed": true
   },
   "outputs": [],
   "source": [
    "data_loader = SessionDataLoader(\"YelBlu6903F\", 1)"
   ]
  },
  {
   "cell_type": "code",
   "execution_count": 3,
   "metadata": {
    "collapsed": true
   },
   "outputs": [],
   "source": [
    "table = data_loader.load_table()"
   ]
  },
  {
   "cell_type": "code",
   "execution_count": 8,
   "metadata": {},
   "outputs": [
    {
     "name": "stdout",
     "output_type": "stream",
     "text": [
      "[u'139' u'138' u'86' u'289' u'288' u'285' u'287' u'286' u'87' u'120' u'121'\n",
      " u'261' u'260' u'124' u'125' u'265' u'264' u'59' u'58' u'55' u'54' u'57'\n",
      " u'56' u'51' u'50' u'53' u'52' u'63' u'290' u'291' u'195' u'194' u'191'\n",
      " u'193' u'192' u'115' u'114' u'117' u'116' u'111' u'110' u'113' u'112'\n",
      " u'82' u'83' u'80' u'81' u'119' u'118' u'84' u'85' u'108' u'109' u'102'\n",
      " u'103' u'100' u'101' u'106' u'107' u'104' u'105' u'39' u'38' u'60' u'61'\n",
      " u'258' u'259' u'64' u'65' u'66' u'67' u'68' u'69' u'256' u'257' u'186'\n",
      " u'184' u'185' u'99' u'98' u'91' u'90' u'93' u'92' u'95' u'94' u'97' u'96'\n",
      " u'88' u'89' u'151' u'150' u'152' u'62' u'48' u'49' u'46' u'47' u'44' u'45'\n",
      " u'42' u'43' u'40' u'41' u'146' u'147' u'144' u'145' u'142' u'143' u'140'\n",
      " u'141' u'148' u'149' u'77' u'76' u'75' u'74' u'73' u'72' u'71' u'70' u'79'\n",
      " u'78' u'263' u'262' u'122' u'123' u'266']\n"
     ]
    }
   ],
   "source": [
    "# print the stims\n",
    "print(pd.unique(table[\"stim\"]))"
   ]
  },
  {
   "cell_type": "code",
   "execution_count": 12,
   "metadata": {},
   "outputs": [
    {
     "data": {
      "text/html": [
       "<div>\n",
       "<style>\n",
       "    .dataframe thead tr:only-child th {\n",
       "        text-align: right;\n",
       "    }\n",
       "\n",
       "    .dataframe thead th {\n",
       "        text-align: left;\n",
       "    }\n",
       "\n",
       "    .dataframe tbody tr th {\n",
       "        vertical-align: top;\n",
       "    }\n",
       "</style>\n",
       "<table border=\"1\" class=\"dataframe\">\n",
       "  <thead>\n",
       "    <tr style=\"text-align: right;\">\n",
       "      <th></th>\n",
       "      <th>call_type</th>\n",
       "      <th>spike_times</th>\n",
       "      <th>stim</th>\n",
       "      <th>stim_type</th>\n",
       "      <th>trial</th>\n",
       "      <th>unit</th>\n",
       "    </tr>\n",
       "  </thead>\n",
       "  <tbody>\n",
       "    <tr>\n",
       "      <th>650</th>\n",
       "      <td>DC</td>\n",
       "      <td>[-1.27082491, -0.3581543, -0.06516719, 0.02555...</td>\n",
       "      <td>285</td>\n",
       "      <td>call</td>\n",
       "      <td>1</td>\n",
       "      <td>(29, 1)</td>\n",
       "    </tr>\n",
       "    <tr>\n",
       "      <th>660</th>\n",
       "      <td>DC</td>\n",
       "      <td>[-0.85557247, 0.02174973, 0.21204996, 0.420536...</td>\n",
       "      <td>285</td>\n",
       "      <td>call</td>\n",
       "      <td>1</td>\n",
       "      <td>(20, 2)</td>\n",
       "    </tr>\n",
       "    <tr>\n",
       "      <th>670</th>\n",
       "      <td>DC</td>\n",
       "      <td>[-1.0954752, -1.08875776, -0.99971056, -0.9971...</td>\n",
       "      <td>285</td>\n",
       "      <td>call</td>\n",
       "      <td>1</td>\n",
       "      <td>(2, 2)</td>\n",
       "    </tr>\n",
       "    <tr>\n",
       "      <th>680</th>\n",
       "      <td>DC</td>\n",
       "      <td>[-0.79560709, -0.16850949, 0.28373003, 0.43847...</td>\n",
       "      <td>285</td>\n",
       "      <td>call</td>\n",
       "      <td>1</td>\n",
       "      <td>(20, 1)</td>\n",
       "    </tr>\n",
       "    <tr>\n",
       "      <th>690</th>\n",
       "      <td>DC</td>\n",
       "      <td>[-1.2200346, -1.21548796, -1.21331716, -1.1563...</td>\n",
       "      <td>285</td>\n",
       "      <td>call</td>\n",
       "      <td>1</td>\n",
       "      <td>(28, 3)</td>\n",
       "    </tr>\n",
       "    <tr>\n",
       "      <th>700</th>\n",
       "      <td>DC</td>\n",
       "      <td>[-1.38129402, -1.33119989, -1.31842041, -1.278...</td>\n",
       "      <td>285</td>\n",
       "      <td>call</td>\n",
       "      <td>1</td>\n",
       "      <td>(26, 2)</td>\n",
       "    </tr>\n",
       "    <tr>\n",
       "      <th>710</th>\n",
       "      <td>DC</td>\n",
       "      <td>[-1.27467514, -1.15441657, -1.15130353, -1.138...</td>\n",
       "      <td>285</td>\n",
       "      <td>call</td>\n",
       "      <td>1</td>\n",
       "      <td>(28, 2)</td>\n",
       "    </tr>\n",
       "    <tr>\n",
       "      <th>720</th>\n",
       "      <td>DC</td>\n",
       "      <td>[0.08327174, 0.11632657, 0.40468478, 0.7361741...</td>\n",
       "      <td>285</td>\n",
       "      <td>call</td>\n",
       "      <td>1</td>\n",
       "      <td>(2, 1)</td>\n",
       "    </tr>\n",
       "    <tr>\n",
       "      <th>730</th>\n",
       "      <td>DC</td>\n",
       "      <td>[-1.2072959, -1.15310598, -0.86315012, -0.8448...</td>\n",
       "      <td>285</td>\n",
       "      <td>call</td>\n",
       "      <td>1</td>\n",
       "      <td>(28, 1)</td>\n",
       "    </tr>\n",
       "    <tr>\n",
       "      <th>740</th>\n",
       "      <td>DC</td>\n",
       "      <td>[-1.39640832, -1.32902909, -1.25890565, -1.242...</td>\n",
       "      <td>285</td>\n",
       "      <td>call</td>\n",
       "      <td>1</td>\n",
       "      <td>(25, 1)</td>\n",
       "    </tr>\n",
       "    <tr>\n",
       "      <th>750</th>\n",
       "      <td>DC</td>\n",
       "      <td>[-1.28032756, -1.27725554, -1.27508474, -1.274...</td>\n",
       "      <td>285</td>\n",
       "      <td>call</td>\n",
       "      <td>1</td>\n",
       "      <td>(29, 3)</td>\n",
       "    </tr>\n",
       "    <tr>\n",
       "      <th>760</th>\n",
       "      <td>DC</td>\n",
       "      <td>[-1.20545268, -1.13819647, -0.847749, -0.84467...</td>\n",
       "      <td>285</td>\n",
       "      <td>call</td>\n",
       "      <td>1</td>\n",
       "      <td>(29, 2)</td>\n",
       "    </tr>\n",
       "    <tr>\n",
       "      <th>770</th>\n",
       "      <td>DC</td>\n",
       "      <td>[-0.38834167, -0.38674427, -0.30883837, -0.144...</td>\n",
       "      <td>285</td>\n",
       "      <td>call</td>\n",
       "      <td>1</td>\n",
       "      <td>(25, 3)</td>\n",
       "    </tr>\n",
       "  </tbody>\n",
       "</table>\n",
       "</div>"
      ],
      "text/plain": [
       "    call_type                                        spike_times stim  \\\n",
       "650        DC  [-1.27082491, -0.3581543, -0.06516719, 0.02555...  285   \n",
       "660        DC  [-0.85557247, 0.02174973, 0.21204996, 0.420536...  285   \n",
       "670        DC  [-1.0954752, -1.08875776, -0.99971056, -0.9971...  285   \n",
       "680        DC  [-0.79560709, -0.16850949, 0.28373003, 0.43847...  285   \n",
       "690        DC  [-1.2200346, -1.21548796, -1.21331716, -1.1563...  285   \n",
       "700        DC  [-1.38129402, -1.33119989, -1.31842041, -1.278...  285   \n",
       "710        DC  [-1.27467514, -1.15441657, -1.15130353, -1.138...  285   \n",
       "720        DC  [0.08327174, 0.11632657, 0.40468478, 0.7361741...  285   \n",
       "730        DC  [-1.2072959, -1.15310598, -0.86315012, -0.8448...  285   \n",
       "740        DC  [-1.39640832, -1.32902909, -1.25890565, -1.242...  285   \n",
       "750        DC  [-1.28032756, -1.27725554, -1.27508474, -1.274...  285   \n",
       "760        DC  [-1.20545268, -1.13819647, -0.847749, -0.84467...  285   \n",
       "770        DC  [-0.38834167, -0.38674427, -0.30883837, -0.144...  285   \n",
       "\n",
       "    stim_type trial     unit  \n",
       "650      call     1  (29, 1)  \n",
       "660      call     1  (20, 2)  \n",
       "670      call     1   (2, 2)  \n",
       "680      call     1  (20, 1)  \n",
       "690      call     1  (28, 3)  \n",
       "700      call     1  (26, 2)  \n",
       "710      call     1  (28, 2)  \n",
       "720      call     1   (2, 1)  \n",
       "730      call     1  (28, 1)  \n",
       "740      call     1  (25, 1)  \n",
       "750      call     1  (29, 3)  \n",
       "760      call     1  (29, 2)  \n",
       "770      call     1  (25, 3)  "
      ]
     },
     "execution_count": 12,
     "metadata": {},
     "output_type": "execute_result"
    }
   ],
   "source": [
    "responses = table[(table[\"stim\"] == \"285\") & (table[\"trial\"] == \"1\")]\n",
    "responses"
   ]
  },
  {
   "cell_type": "code",
   "execution_count": 27,
   "metadata": {},
   "outputs": [
    {
     "data": {
      "image/png": "[encoded data removed]",
      "text/plain": [
       "<matplotlib.figure.Figure at 0x10a8142d0>"
      ]
     },
     "metadata": {},
     "output_type": "display_data"
    }
   ],
   "source": [
    "plt.figure(figsize=(8, 2))\n",
    "raster.plot(responses[\"spike_times\"], -0.2, 1.0)\n",
    "plt.ylim()\n",
    "plt.xlabel(\"t (s)\")\n",
    "plt.show()"
   ]
  },
  {
   "cell_type": "code",
   "execution_count": null,
   "metadata": {
    "collapsed": true
   },
   "outputs": [],
   "source": []
  }
 ],
 "metadata": {
  "kernelspec": {
   "display_name": "Python 2",
   "language": "python",
   "name": "python2"
  },
  "language_info": {
   "codemirror_mode": {
    "name": "ipython",
    "version": 2
   },
   "file_extension": ".py",
   "mimetype": "text/x-python",
   "name": "python",
   "nbconvert_exporter": "python",
   "pygments_lexer": "ipython2",
   "version": "2.7.12"
  }
 },
 "nbformat": 4,
 "nbformat_minor": 2
}
