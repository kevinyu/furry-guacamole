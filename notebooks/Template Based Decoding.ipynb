{
 "cells": [
  {
   "cell_type": "markdown",
   "metadata": {},
   "source": [
    "## Template based decoding\n",
    "\n",
    "* compute the mean response (response template) per category\n",
    "\n",
    "* decode the nearest template for each response (over n-1 trials by excluding current trial from template)\n",
    "\n",
    "* confusion matrix"
   ]
  },
  {
   "cell_type": "code",
   "execution_count": 1,
   "metadata": {
    "collapsed": true
   },
   "outputs": [],
   "source": [
    "import pandas as pd\n",
    "import matplotlib.pyplot as plt\n",
    "import numpy as np\n",
    "\n",
    "import confusion\n",
    "from confusion import generate_confusion_matrix\n",
    "from data_loader import SessionDataLoader\n",
    "from spikeplot import raster\n",
    "from spikes.filters import gaussian_filter, exp_filter\n",
    "from spikes.binning import bin_spikes\n",
    "from template_decoding import (\n",
    "    compute_distance_to_templates,\n",
    "    compute_templates,\n",
    "    decode,\n",
    "    unbias_templates\n",
    ")\n",
    "\n",
    "%load_ext autoreload\n",
    "%autoreload 2"
   ]
  },
  {
   "cell_type": "code",
   "execution_count": 2,
   "metadata": {
    "collapsed": true
   },
   "outputs": [],
   "source": [
    "data_loader = SessionDataLoader(\"GreBlu9508M\", 1)"
   ]
  },
  {
   "cell_type": "code",
   "execution_count": 3,
   "metadata": {
    "collapsed": true
   },
   "outputs": [],
   "source": [
    "table = data_loader.load_table()"
   ]
  },
  {
   "cell_type": "code",
   "execution_count": 4,
   "metadata": {
    "collapsed": true
   },
   "outputs": [],
   "source": [
    "t_arr, spikes = bin_spikes(table[\"spike_times\"], min_time=0.0, max_time=0.6)\n",
    "spikes_filtered = exp_filter(spikes, 5.0)\n",
    "\n",
    "table[\"binned_spikes\"] = spikes.tolist()\n",
    "table[\"psth\"] = spikes_filtered.tolist()"
   ]
  },
  {
   "cell_type": "code",
   "execution_count": 5,
   "metadata": {
    "collapsed": true
   },
   "outputs": [],
   "source": [
    "unit_table = table[table[\"unit\"] == (14, 1)]"
   ]
  },
  {
   "cell_type": "markdown",
   "metadata": {},
   "source": [
    "## Stimulus Decoding\n",
    "\n",
    "First: Compute templates. Includes how many were included in the average so that the proper amount can be subtracted later on."
   ]
  },
  {
   "cell_type": "code",
   "execution_count": 19,
   "metadata": {
    "collapsed": true
   },
   "outputs": [],
   "source": [
    "templates = compute_templates(unit_table, \"stim\", \"psth\")"
   ]
  },
  {
   "cell_type": "code",
   "execution_count": 20,
   "metadata": {},
   "outputs": [
    {
     "data": {
      "image/png": "[encoded data removed]",
      "text/plain": [
       "<matplotlib.figure.Figure at 0x7f63a2797610>"
      ]
     },
     "metadata": {},
     "output_type": "display_data"
    }
   ],
   "source": [
    "plt.figure(figsize=(12, 1))\n",
    "raster.plot(unit_table[unit_table[\"stim\"] == \"110\"][\"spike_times\"], 0, 0.6)\n",
    "scale = plt.ylim()[1] / 2.0\n",
    "plt.plot(\n",
    "    t_arr,\n",
    "    scale * templates.get_value(\"110\", \"psth\") / np.max(templates.get_value(\"110\", \"psth\")),\n",
    "    color=\"red\",\n",
    "    linewidth=2)\n",
    "plt.axis(\"off\")\n",
    "plt.show()"
   ]
  },
  {
   "cell_type": "markdown",
   "metadata": {},
   "source": [
    "Second: Subtract off one trial from each template so that each row gets a column called \"selfless_template\"---the template for that stim, minus the current trial"
   ]
  },
  {
   "cell_type": "code",
   "execution_count": 21,
   "metadata": {
    "collapsed": true
   },
   "outputs": [],
   "source": [
    "if \"psth_template\" in unit_table: unit_table.drop(\"psth_template\", 1, inplace=True)\n",
    "unit_table = unbias_templates(unit_table, templates, \"stim\", \"psth\")"
   ]
  },
  {
   "cell_type": "code",
   "execution_count": 22,
   "metadata": {},
   "outputs": [
    {
     "data": {
      "image/png": "[encoded data removed]",
      "text/plain": [
       "<matplotlib.figure.Figure at 0x7f63a2712d50>"
      ]
     },
     "metadata": {},
     "output_type": "display_data"
    }
   ],
   "source": [
    "plt.figure(figsize=(12, 1))\n",
    "raster.plot(unit_table[unit_table[\"stim\"] == \"112\"][\"spike_times\"], 0, 0.6)\n",
    "scale = plt.ylim()[1] / 2.0\n",
    "\n",
    "for psth in unit_table[unit_table[\"stim\"] == \"112\"][\"selfless_template\"]:\n",
    "    if np.max(psth):\n",
    "        plt.plot(\n",
    "            t_arr,\n",
    "            scale * np.array(psth) / np.max(psth),\n",
    "            linewidth=2,\n",
    "            alpha=0.5)\n",
    "    \n",
    "plt.axis(\"off\")\n",
    "plt.show()"
   ]
  },
  {
   "cell_type": "markdown",
   "metadata": {},
   "source": [
    "Third: Compute distances of each trial to each template"
   ]
  },
  {
   "cell_type": "code",
   "execution_count": 10,
   "metadata": {},
   "outputs": [],
   "source": [
    "# NEED TO DO THIS FIRST...\n",
    "unit_table = unit_table.sort_values([\"call_type\", \"stim\"])\n",
    "compute_distance_to_templates.clear_cache()\n",
    "distances = compute_distance_to_templates(unit_table, \"stim\", \"psth\")"
   ]
  },
  {
   "cell_type": "markdown",
   "metadata": {},
   "source": [
    "Finally, sort the rows by call type, generate confusion matrix, compute mutual information and decoding accuracy."
   ]
  },
  {
   "cell_type": "code",
   "execution_count": 11,
   "metadata": {},
   "outputs": [],
   "source": [
    "actual = unit_table[\"stim\"]\n",
    "predicted = decode(unit_table, distances, \"stim\")\n",
    "\n",
    "conf = generate_confusion_matrix(actual, predicted, joint=False)"
   ]
  },
  {
   "cell_type": "code",
   "execution_count": 26,
   "metadata": {},
   "outputs": [
    {
     "data": {
      "image/png": "[encoded data removed]",
      "text/plain": [
       "<matplotlib.figure.Figure at 0x7f63a198c850>"
      ]
     },
     "metadata": {},
     "output_type": "display_data"
    },
    {
     "name": "stdout",
     "output_type": "stream",
     "text": [
      "Mutual Information: 5.42 bits\n",
      "Accuracy: 64.76%\n"
     ]
    }
   ],
   "source": [
    "plt.figure(figsize=(11, 10))\n",
    "plt.imshow(conf, vmin=0.0, vmax=1.0, cmap=\"hot\")\n",
    "plt.colorbar()\n",
    "plt.show()\n",
    "print \"Mutual Information: {:.2f} bits\".format(confusion.mutual_information(conf))\n",
    "print \"Accuracy: {:.2f}%\".format(confusion.accuracy(conf) * 100)"
   ]
  },
  {
   "cell_type": "markdown",
   "metadata": {},
   "source": [
    "## Call Type Decoding"
   ]
  },
  {
   "cell_type": "code",
   "execution_count": 32,
   "metadata": {
    "collapsed": true
   },
   "outputs": [],
   "source": [
    "templates = compute_templates(unit_table, \"call_type\", \"psth\")"
   ]
  },
  {
   "cell_type": "code",
   "execution_count": 33,
   "metadata": {
    "collapsed": true
   },
   "outputs": [],
   "source": [
    "if \"psth_template\" in unit_table: unit_table.drop(\"psth_template\", 1, inplace=True)\n",
    "unit_table = unbias_templates(unit_table, templates, \"call_type\", \"psth\")"
   ]
  },
  {
   "cell_type": "code",
   "execution_count": 34,
   "metadata": {
    "collapsed": true
   },
   "outputs": [],
   "source": [
    "compute_distance_to_templates.clear_cache()\n",
    "distances = compute_distance_to_templates(unit_table, \"call_type\", \"psth\")"
   ]
  },
  {
   "cell_type": "code",
   "execution_count": 39,
   "metadata": {
    "collapsed": true
   },
   "outputs": [],
   "source": [
    "unit_table = unit_table.sort_values([\"call_type\", \"stim\"])\n",
    "\n",
    "actual = unit_table[\"call_type\"]\n",
    "predicted = decode(unit_table, distances, \"call_type\")\n",
    "\n",
    "conf = generate_confusion_matrix(actual, predicted, joint=False)"
   ]
  },
  {
   "cell_type": "code",
   "execution_count": 40,
   "metadata": {
    "scrolled": false
   },
   "outputs": [
    {
     "data": {
      "image/png": "[encoded data removed]",
      "text/plain": [
       "<matplotlib.figure.Figure at 0x7f63a1604ad0>"
      ]
     },
     "metadata": {},
     "output_type": "display_data"
    },
    {
     "name": "stdout",
     "output_type": "stream",
     "text": [
      "Mutual Information: 0.44 bits\n",
      "Accuracy: 31.46%\n"
     ]
    }
   ],
   "source": [
    "plt.figure(figsize=(11, 10))\n",
    "plt.imshow(conf, vmin=0.0, vmax=1.0, cmap=\"hot\")\n",
    "plt.colorbar()\n",
    "plt.show()\n",
    "print \"Mutual Information: {:.2f} bits\".format(confusion.mutual_information(conf))\n",
    "print \"Accuracy: {:.2f}%\".format(confusion.accuracy(conf) * 100)"
   ]
  },
  {
   "cell_type": "code",
   "execution_count": null,
   "metadata": {
    "collapsed": true
   },
   "outputs": [],
   "source": []
  }
 ],
 "metadata": {
  "kernelspec": {
   "display_name": "Python 2",
   "language": "python",
   "name": "python2"
  },
  "language_info": {
   "codemirror_mode": {
    "name": "ipython",
    "version": 2
   },
   "file_extension": ".py",
   "mimetype": "text/x-python",
   "name": "python",
   "nbconvert_exporter": "python",
   "pygments_lexer": "ipython2",
   "version": "2.7.12"
  }
 },
 "nbformat": 4,
 "nbformat_minor": 2
}
