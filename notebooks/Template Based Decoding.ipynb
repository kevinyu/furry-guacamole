{
 "cells": [
  {
   "cell_type": "markdown",
   "metadata": {},
   "source": [
    "## Template based decoding\n",
    "\n",
    "* compute the mean response (response template) per category\n",
    "\n",
    "* decode the nearest template for each response (over n-1 trials by excluding current trial from template)\n",
    "\n",
    "* confusion matrix"
   ]
  },
  {
   "cell_type": "code",
   "execution_count": 38,
   "metadata": {},
   "outputs": [
    {
     "name": "stdout",
     "output_type": "stream",
     "text": [
      "The autoreload extension is already loaded. To reload it, use:\n",
      "  %reload_ext autoreload\n"
     ]
    }
   ],
   "source": [
    "import pandas as pd\n",
    "import matplotlib.pyplot as plt\n",
    "import numpy as np\n",
    "from data_loader import SessionDataLoader\n",
    "\n",
    "from spikeplot import raster\n",
    "from spikes.filters import gaussian_filter, exp_filter\n",
    "from spikes.binning import bin_spikes\n",
    "\n",
    "from template_decoding import (\n",
    "    compute_distance_to_templates,\n",
    "    compute_templates,\n",
    "    unbias_templates\n",
    ")\n",
    "\n",
    "%load_ext autoreload\n",
    "%autoreload 2"
   ]
  },
  {
   "cell_type": "code",
   "execution_count": 2,
   "metadata": {
    "collapsed": true
   },
   "outputs": [],
   "source": [
    "data_loader = SessionDataLoader(\"YelBlu6903F\", 1)"
   ]
  },
  {
   "cell_type": "code",
   "execution_count": 3,
   "metadata": {
    "collapsed": true
   },
   "outputs": [],
   "source": [
    "table = data_loader.load_table()"
   ]
  },
  {
   "cell_type": "code",
   "execution_count": 4,
   "metadata": {
    "collapsed": true
   },
   "outputs": [],
   "source": [
    "t_arr, spikes = bin_spikes(table[\"spike_times\"], min_time=0.0, max_time=0.6)\n",
    "spikes_filtered = gaussian_filter(spikes, 5.0)\n",
    "\n",
    "table[\"binned_spikes\"] = spikes.tolist()\n",
    "table[\"psth\"] = spikes_filtered.tolist()"
   ]
  },
  {
   "cell_type": "markdown",
   "metadata": {},
   "source": [
    "Lets try the pandas groupby function\n",
    "\n",
    "Include n_trials as a column so we can subtract off 1/n_trials * [single trial psth] to unbias a template"
   ]
  },
  {
   "cell_type": "code",
   "execution_count": 21,
   "metadata": {
    "collapsed": true
   },
   "outputs": [],
   "source": [
    "unit_table = table[table[\"unit\"] == (2, 1)]"
   ]
  },
  {
   "cell_type": "code",
   "execution_count": 22,
   "metadata": {
    "collapsed": true
   },
   "outputs": [],
   "source": [
    "templates = compute_templates(unit_table, \"stim\", \"psth\")"
   ]
  },
  {
   "cell_type": "code",
   "execution_count": 23,
   "metadata": {},
   "outputs": [
    {
     "data": {
      "image/png": "[encoded data removed]",
      "text/plain": [
       "<matplotlib.figure.Figure at 0x113d6a710>"
      ]
     },
     "metadata": {},
     "output_type": "display_data"
    }
   ],
   "source": [
    "plt.figure(figsize=(12, 1))\n",
    "raster.plot(unit_table[unit_table[\"stim\"] == \"100\"][\"spike_times\"], 0, 0.6)\n",
    "scale = plt.ylim()[1] / 2.0\n",
    "plt.plot(\n",
    "    t_arr,\n",
    "    scale * templates.get_value(\"100\", \"psth\") / np.max(templates.get_value(\"100\", \"psth\")),\n",
    "    color=\"red\",\n",
    "    linewidth=2)\n",
    "plt.axis(\"off\")\n",
    "plt.show()"
   ]
  },
  {
   "cell_type": "code",
   "execution_count": 36,
   "metadata": {
    "collapsed": true
   },
   "outputs": [],
   "source": [
    "unit_table.drop(\"psth_template\", 1, inplace=True)\n",
    "unit_table = unbias_templates(unit_table, templates, \"stim\", \"psth\")"
   ]
  },
  {
   "cell_type": "code",
   "execution_count": 37,
   "metadata": {},
   "outputs": [
    {
     "data": {
      "image/png": "[encoded data removed]",
      "text/plain": [
       "<matplotlib.figure.Figure at 0x11f0f7bd0>"
      ]
     },
     "metadata": {},
     "output_type": "display_data"
    }
   ],
   "source": [
    "plt.figure(figsize=(12, 1))\n",
    "raster.plot(unit_table[unit_table[\"stim\"] == \"100\"][\"spike_times\"], 0, 0.6)\n",
    "scale = plt.ylim()[1] / 2.0\n",
    "\n",
    "for psth in unit_table[unit_table[\"stim\"] == \"100\"][\"selfless_template\"]:\n",
    "    plt.plot(\n",
    "        t_arr,\n",
    "        scale * np.array(psth) / np.max(psth),\n",
    "        linewidth=2,\n",
    "        alpha=0.5)\n",
    "    \n",
    "plt.axis(\"off\")\n",
    "plt.show()"
   ]
  },
  {
   "cell_type": "code",
   "execution_count": 154,
   "metadata": {
    "collapsed": true
   },
   "outputs": [],
   "source": [
    "distances = compute_distance_to_templates(unit_table, \"stim\")"
   ]
  },
  {
   "cell_type": "code",
   "execution_count": null,
   "metadata": {
    "collapsed": true
   },
   "outputs": [],
   "source": []
  }
 ],
 "metadata": {
  "kernelspec": {
   "display_name": "Python 2",
   "language": "python",
   "name": "python2"
  },
  "language_info": {
   "codemirror_mode": {
    "name": "ipython",
    "version": 2
   },
   "file_extension": ".py",
   "mimetype": "text/x-python",
   "name": "python",
   "nbconvert_exporter": "python",
   "pygments_lexer": "ipython2",
   "version": "2.7.12"
  }
 },
 "nbformat": 4,
 "nbformat_minor": 2
}
